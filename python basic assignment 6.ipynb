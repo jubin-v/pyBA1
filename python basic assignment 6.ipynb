{
 "cells": [
  {
   "cell_type": "code",
   "execution_count": null,
   "id": "b2bb040d",
   "metadata": {},
   "outputs": [],
   "source": [
    "### python basic assignment 6"
   ]
  },
  {
   "cell_type": "code",
   "execution_count": null,
   "id": "90ae845d",
   "metadata": {},
   "outputs": [],
   "source": [
    "1.What are escape characters, and how do you use them?\n",
    "\n",
    "Sol.\n",
    "Escape characters represent characters in string values that would otherwise be difficult or impossible to type into code.\n",
    "In Python strings, the backslash \"\\\" is a special character, also called the \"escape\" character. \n",
    "It is used in representing certain whitespace characters: \"\\t\" is a tab, \"\\n\" is a newline, and \"\\r\" is a carriage return."
   ]
  },
  {
   "cell_type": "code",
   "execution_count": null,
   "id": "11090380",
   "metadata": {},
   "outputs": [],
   "source": [
    "2.What do the escape characters n and t stand for?\n",
    "\n",
    "Sol.\n",
    "\"\\n\" is a newline, \"\\t\" is a tab"
   ]
  },
  {
   "cell_type": "code",
   "execution_count": null,
   "id": "5dc58c67",
   "metadata": {},
   "outputs": [],
   "source": [
    "3.What is the way to include backslash characters in a string?\n",
    "\n",
    "Sol.\n",
    "The \\\\ escape character will represent a backslash character."
   ]
  },
  {
   "cell_type": "code",
   "execution_count": null,
   "id": "6d5c1435",
   "metadata": {},
   "outputs": [],
   "source": [
    "4. The string \"Howl's Moving Castle\" is a correct value. Why isn't the single quote character in the word Howl's not escaped a problem?\n",
    "\n",
    "Sol.\n",
    "since double quote is used to mark begining and end of string, so escaped the problem."
   ]
  },
  {
   "cell_type": "code",
   "execution_count": null,
   "id": "b5d532ca",
   "metadata": {},
   "outputs": [],
   "source": [
    "5. How do you write a string of newlines if you don't want to use the n character?\n",
    "\n",
    "Sol.\n",
    "multiline strings allows to use newlines without the use of '\\n', escape charactor."
   ]
  },
  {
   "cell_type": "code",
   "execution_count": null,
   "id": "5d7941f8",
   "metadata": {},
   "outputs": [],
   "source": [
    "6. What are the values of the given expressions? 'Hello, world!'[1] 'Hello, world!'[0:5] 'Hello, world!'[:5] 'Hello, world!'[3:]?\n",
    "\n",
    "Sol."
   ]
  },
  {
   "cell_type": "code",
   "execution_count": 9,
   "id": "7d633e16",
   "metadata": {},
   "outputs": [
    {
     "data": {
      "text/plain": [
       "('e', 'Hello', 'lo, world!')"
      ]
     },
     "execution_count": 9,
     "metadata": {},
     "output_type": "execute_result"
    }
   ],
   "source": [
    "'Hello, world!'[1] , 'Hello, world!'[0:5], 'Hello, world!'[3:]"
   ]
  },
  {
   "cell_type": "code",
   "execution_count": null,
   "id": "051e7993",
   "metadata": {},
   "outputs": [],
   "source": [
    "7. What are the values of the following expressions? 'Hello'.upper() 'Hello'.upper().isupper() 'Hello'.upper().lower()\n",
    "Sol."
   ]
  },
  {
   "cell_type": "code",
   "execution_count": 8,
   "id": "fbbb5b4a",
   "metadata": {},
   "outputs": [
    {
     "data": {
      "text/plain": [
       "('HELLO', True, 'hello')"
      ]
     },
     "execution_count": 8,
     "metadata": {},
     "output_type": "execute_result"
    }
   ],
   "source": [
    "'Hello'.upper(), 'Hello'.upper().isupper(), 'Hello'.upper().lower()"
   ]
  },
  {
   "cell_type": "code",
   "execution_count": null,
   "id": "fb795496",
   "metadata": {},
   "outputs": [],
   "source": [
    "8. What are the values of the following expressions? 'Remember, remember, the fifth of July.'.split() '-'.join('There can only one.'.split())"
   ]
  },
  {
   "cell_type": "code",
   "execution_count": 14,
   "id": "f81742c2",
   "metadata": {},
   "outputs": [
    {
     "data": {
      "text/plain": [
       "['Remember,', 'remember,', 'the', 'fifth', 'of', 'July.']"
      ]
     },
     "execution_count": 14,
     "metadata": {},
     "output_type": "execute_result"
    }
   ],
   "source": [
    "'Remember, remember, the fifth of July.'.split()"
   ]
  },
  {
   "cell_type": "code",
   "execution_count": 12,
   "id": "5e09baec",
   "metadata": {},
   "outputs": [
    {
     "data": {
      "text/plain": [
       "'There-can-only-one.'"
      ]
     },
     "execution_count": 12,
     "metadata": {},
     "output_type": "execute_result"
    }
   ],
   "source": [
    "'-'.join('There can only one.'.split())"
   ]
  },
  {
   "cell_type": "code",
   "execution_count": null,
   "id": "e75abff2",
   "metadata": {},
   "outputs": [],
   "source": [
    "9.What are the methods for right-justifying, left-justifying, and centering a string?\n",
    "\n",
    "Sol.\n",
    "The rjust(), ljust(), and center() string methods, respectively\n",
    "\n",
    "str.ljust(s, width[, fillchar])\n",
    "str.rjust(s, width[, fillchar])\n",
    "str.center(s, width[, fillchar])"
   ]
  },
  {
   "cell_type": "code",
   "execution_count": null,
   "id": "067a77c3",
   "metadata": {},
   "outputs": [],
   "source": [
    "10. What is the best way to remove whitespace characters from the start or end?\n",
    "\n",
    "Sol.\n",
    "\n",
    "Python String strip() function will remove leading and trailing whitespaces.\n",
    "\n",
    "If you want to remove only leading or trailing spaces, The lstrip() and rstrip() methods remove whitespace from the left and right ends of a string, respectively."
   ]
  }
 ],
 "metadata": {
  "kernelspec": {
   "display_name": "Python 3 (ipykernel)",
   "language": "python",
   "name": "python3"
  },
  "language_info": {
   "codemirror_mode": {
    "name": "ipython",
    "version": 3
   },
   "file_extension": ".py",
   "mimetype": "text/x-python",
   "name": "python",
   "nbconvert_exporter": "python",
   "pygments_lexer": "ipython3",
   "version": "3.9.7"
  }
 },
 "nbformat": 4,
 "nbformat_minor": 5
}
