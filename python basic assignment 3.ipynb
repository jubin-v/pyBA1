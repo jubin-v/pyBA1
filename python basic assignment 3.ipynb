{
 "cells": [
  {
   "cell_type": "code",
   "execution_count": null,
   "id": "05d244e8",
   "metadata": {},
   "outputs": [],
   "source": [
    "1. Why are functions advantageous to have in your programs?"
   ]
  },
  {
   "cell_type": "code",
   "execution_count": null,
   "id": "e2fda6b7",
   "metadata": {},
   "outputs": [],
   "source": [
    "advantages as follows\n",
    "1. function divide the program into small groups and easy for debugging, it is base for modular programming\n",
    "2. reusability of same fuction at different locations. program become more readable.\n",
    "3.enables fuction calling and create cpmlex logic of a program and makes easy for a group of people to use it."
   ]
  },
  {
   "cell_type": "code",
   "execution_count": null,
   "id": "ef8ee3d4",
   "metadata": {},
   "outputs": [],
   "source": [
    "2. When does the code in a function run: when it's specified or when it's called?"
   ]
  },
  {
   "cell_type": "code",
   "execution_count": null,
   "id": "6caec74b",
   "metadata": {},
   "outputs": [],
   "source": [
    "the code will run only when fuction is called."
   ]
  },
  {
   "cell_type": "code",
   "execution_count": null,
   "id": "5de9d589",
   "metadata": {},
   "outputs": [],
   "source": [
    "3. What statement creates a function?"
   ]
  },
  {
   "cell_type": "code",
   "execution_count": null,
   "id": "a701adfc",
   "metadata": {},
   "outputs": [],
   "source": [
    "def is the statement for creating fuction"
   ]
  },
  {
   "cell_type": "code",
   "execution_count": null,
   "id": "6ab537b9",
   "metadata": {},
   "outputs": [],
   "source": [
    "4. What is the difference between a function and a function call?"
   ]
  },
  {
   "cell_type": "code",
   "execution_count": null,
   "id": "74ef5f8c",
   "metadata": {},
   "outputs": [],
   "source": [
    "Fuction is basically a piece of code that returns a desirable result.\n",
    "fuction call is way of invoking or calling the fuction and pass control to fuction.\n",
    "A function consists of the def statement and the code in its def clause.\n",
    "A function call is what moves the program execution into the function, and the function call evaluates to the function's return value."
   ]
  },
  {
   "cell_type": "code",
   "execution_count": null,
   "id": "9abdb451",
   "metadata": {},
   "outputs": [],
   "source": [
    "5. How many global scopes are there in a Python program? How many local scopes?"
   ]
  },
  {
   "cell_type": "code",
   "execution_count": null,
   "id": "366301e5",
   "metadata": {},
   "outputs": [],
   "source": [
    "Any variable created in the main body of the Python code is a global variable and belongs to the global scope.Global variables are available from within any scope, global and local.\n",
    "whereas local variables inside fuctions constitute local scope. local scope cannot be accessed by global or any other local scope otherthan the local scope it belongs to.\n",
    "There is one global scope, and a local scope is created whenever a function is called."
   ]
  },
  {
   "cell_type": "code",
   "execution_count": null,
   "id": "d1c8a0c8",
   "metadata": {},
   "outputs": [],
   "source": [
    "6. What happens to variables in a local scope when the function call returns?"
   ]
  },
  {
   "cell_type": "code",
   "execution_count": null,
   "id": "7de5b409",
   "metadata": {},
   "outputs": [],
   "source": [
    "When a function returns, the local scope is destroyed, and all the variables in it are forgotten."
   ]
  },
  {
   "cell_type": "code",
   "execution_count": null,
   "id": "7f345365",
   "metadata": {},
   "outputs": [],
   "source": [
    "7. What is the concept of a return value? Is it possible to have a return value in an expression?"
   ]
  },
  {
   "cell_type": "code",
   "execution_count": null,
   "id": "99809938",
   "metadata": {},
   "outputs": [],
   "source": [
    "A return value is the value that a function call evaluates to. Like any value, a return value can be used as part of an expression"
   ]
  },
  {
   "cell_type": "code",
   "execution_count": null,
   "id": "500a1f0f",
   "metadata": {},
   "outputs": [],
   "source": [
    "8. If a function does not have a return statement, what is the return value of a call to that function?"
   ]
  },
  {
   "cell_type": "code",
   "execution_count": null,
   "id": "0eb21843",
   "metadata": {},
   "outputs": [],
   "source": [
    "If there is no return statement for a function, its return value is None."
   ]
  },
  {
   "cell_type": "code",
   "execution_count": null,
   "id": "2ce8c9d5",
   "metadata": {},
   "outputs": [],
   "source": [
    "9. How do you make a function variable refer to the global variable?"
   ]
  },
  {
   "cell_type": "code",
   "execution_count": null,
   "id": "cc5a547e",
   "metadata": {},
   "outputs": [],
   "source": [
    "A global statement will force a variable in a function to refer to the global variable."
   ]
  },
  {
   "cell_type": "code",
   "execution_count": null,
   "id": "3a39f554",
   "metadata": {},
   "outputs": [],
   "source": [
    "10. What is the data type of None?"
   ]
  },
  {
   "cell_type": "code",
   "execution_count": null,
   "id": "dfd8d54c",
   "metadata": {},
   "outputs": [],
   "source": [
    "Nonetype"
   ]
  },
  {
   "cell_type": "code",
   "execution_count": null,
   "id": "e27c7602",
   "metadata": {},
   "outputs": [],
   "source": [
    "11. What does the sentence import areallyourpetsnamederic do?"
   ]
  },
  {
   "cell_type": "code",
   "execution_count": null,
   "id": "b38fe867",
   "metadata": {},
   "outputs": [],
   "source": [
    "import will import module named 'areallyourpetsnamederic'"
   ]
  },
  {
   "cell_type": "code",
   "execution_count": null,
   "id": "aec2b0ff",
   "metadata": {},
   "outputs": [],
   "source": [
    "12. If you had a bacon() feature in a spam module, what would you call it after importing spam?"
   ]
  },
  {
   "cell_type": "code",
   "execution_count": null,
   "id": "a0ec2962",
   "metadata": {},
   "outputs": [],
   "source": [
    "spam.bacon()"
   ]
  },
  {
   "cell_type": "code",
   "execution_count": null,
   "id": "2a71ecb0",
   "metadata": {},
   "outputs": [],
   "source": [
    "13. What can you do to save a programme from crashing if it encounters an error?"
   ]
  },
  {
   "cell_type": "code",
   "execution_count": null,
   "id": "02bb696f",
   "metadata": {},
   "outputs": [],
   "source": [
    "Place the doubtful line of code that may cause an error in a try clause."
   ]
  },
  {
   "cell_type": "code",
   "execution_count": null,
   "id": "ccc04b86",
   "metadata": {},
   "outputs": [],
   "source": [
    "14. What is the purpose of the try clause? What is the purpose of the except clause?"
   ]
  },
  {
   "cell_type": "code",
   "execution_count": null,
   "id": "17795d1a",
   "metadata": {},
   "outputs": [],
   "source": [
    "The code that could potentially cause an error goes in the try clause.\n",
    "\n",
    "The code that executes if an error happens goes in the except clause."
   ]
  }
 ],
 "metadata": {
  "kernelspec": {
   "display_name": "Python 3 (ipykernel)",
   "language": "python",
   "name": "python3"
  },
  "language_info": {
   "codemirror_mode": {
    "name": "ipython",
    "version": 3
   },
   "file_extension": ".py",
   "mimetype": "text/x-python",
   "name": "python",
   "nbconvert_exporter": "python",
   "pygments_lexer": "ipython3",
   "version": "3.9.7"
  }
 },
 "nbformat": 4,
 "nbformat_minor": 5
}
