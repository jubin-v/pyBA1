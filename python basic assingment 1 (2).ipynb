{
 "cells": [
  {
   "cell_type": "code",
   "execution_count": null,
   "id": "bd56096e",
   "metadata": {},
   "outputs": [],
   "source": [
    "1. In the below elements which of them are values or an expression? eg:- values can be integer or string and expressions will be mathematical operators.\n",
    "*  \n",
    "'hello'\n",
    "-87.8\n",
    "- \n",
    "/ \n",
    "+\t\n",
    "6 \n",
    "\n",
    "Ans.\n",
    "*  is Expression\n",
    "'hello' is value\n",
    "-87.8 is value\n",
    "-  is Expression\n",
    "/  is Expression\n",
    "+\tis Expression\n",
    "6 is value\n"
   ]
  },
  {
   "cell_type": "code",
   "execution_count": null,
   "id": "99dd6adb",
   "metadata": {},
   "outputs": [],
   "source": [
    "2. What is the difference between string and variable?\n",
    "\n",
    "Variable is used to store value as a location in memory and can be manipulated if needed.\n",
    "\n",
    "String is array of sequenced characters and is written inside single quotes, double quotes.\n"
   ]
  },
  {
   "cell_type": "code",
   "execution_count": null,
   "id": "4c8168e8",
   "metadata": {},
   "outputs": [],
   "source": [
    "3. Describe three different data types.\n",
    "Integer – this data type used to store numerical whole values. \n",
    "Boolean – a datatype which is used to denote ‘True’ and ‘False’ statements. True is identified as 1 and false identified as 0.\n",
    "String - String is array of sequenced characters and is written inside single quotes, double quotes.\n"
   ]
  },
  {
   "cell_type": "code",
   "execution_count": null,
   "id": "c2bc8557",
   "metadata": {},
   "outputs": [],
   "source": [
    "4. What is an expression made up of? What do all expressions do?\n",
    "Expressions are made up of a collection of mathematical operators, literals and identifiers. \n",
    "Expressions are part of every line of code, which is used to meaningful statements. \n"
   ]
  },
  {
   "cell_type": "code",
   "execution_count": null,
   "id": "a531861b",
   "metadata": {},
   "outputs": [],
   "source": [
    "5. This assignment statements, like spam = 10. What is the difference between an expression and a statement?\n",
    "Expressions are basically a collection of mathematical operators, literals and identifiers.\n",
    "Programming statement are combination of expression and variables that make a line of code. A program is a sequence of one or more statements.\n"
   ]
  },
  {
   "cell_type": "code",
   "execution_count": null,
   "id": "3c393400",
   "metadata": {},
   "outputs": [],
   "source": [
    "6. After running the following code, what does the variable bacon contain?\n",
    "bacon = 22\n",
    "bacon + 1\n"
   ]
  },
  {
   "cell_type": "code",
   "execution_count": 3,
   "id": "c42e932b",
   "metadata": {},
   "outputs": [
    {
     "data": {
      "text/plain": [
       "23"
      ]
     },
     "execution_count": 3,
     "metadata": {},
     "output_type": "execute_result"
    }
   ],
   "source": [
    "bacon = 22\n",
    "bacon + 1\n"
   ]
  },
  {
   "cell_type": "code",
   "execution_count": null,
   "id": "81a3aed5",
   "metadata": {},
   "outputs": [],
   "source": [
    "7. What should the values of the following two terms be?\n",
    "'spam' + 'spamspam'\n",
    "'spam' * 3\n"
   ]
  },
  {
   "cell_type": "code",
   "execution_count": 4,
   "id": "31efb4ce",
   "metadata": {},
   "outputs": [
    {
     "data": {
      "text/plain": [
       "'spamspamspam'"
      ]
     },
     "execution_count": 4,
     "metadata": {},
     "output_type": "execute_result"
    }
   ],
   "source": [
    "\n",
    "'spam' + 'spamspam'\n"
   ]
  },
  {
   "cell_type": "code",
   "execution_count": 5,
   "id": "1f7c06ff",
   "metadata": {},
   "outputs": [
    {
     "data": {
      "text/plain": [
       "'spamspamspam'"
      ]
     },
     "execution_count": 5,
     "metadata": {},
     "output_type": "execute_result"
    }
   ],
   "source": [
    "'spam' * 3\n"
   ]
  },
  {
   "cell_type": "code",
   "execution_count": null,
   "id": "2278b7f2",
   "metadata": {},
   "outputs": [],
   "source": [
    "8. Why is eggs a valid variable name while 100 is invalid?\n",
    "100 is an integer, which is already has a value. So we it is not allowed to give variable name as an integer. Whereas the “egg” is a string.\n"
   ]
  },
  {
   "cell_type": "code",
   "execution_count": null,
   "id": "25c0f9f2",
   "metadata": {},
   "outputs": [],
   "source": [
    "10. Why does this expression cause an error? How can you fix it?\n",
    "'I have eaten ' + 99 + ' burritos.'\n",
    "\n",
    "Ans.\n",
    "Concatenation of string with an integer is not allowed. Same type of datatypes are allowed to concatenation or addition operation. Converting integer value to string can be done, i.e. type casting of integer to string will fix the error.\n",
    "'I have eaten ' + str(99) + ' burritos.'\n"
   ]
  },
  {
   "cell_type": "code",
   "execution_count": 6,
   "id": "b4382519",
   "metadata": {},
   "outputs": [
    {
     "data": {
      "text/plain": [
       "'I have eaten 99 burritos.'"
      ]
     },
     "execution_count": 6,
     "metadata": {},
     "output_type": "execute_result"
    }
   ],
   "source": [
    "\n",
    "'I have eaten ' + str(99) + ' burritos.'\n"
   ]
  },
  {
   "cell_type": "code",
   "execution_count": null,
   "id": "13db885a",
   "metadata": {},
   "outputs": [],
   "source": []
  }
 ],
 "metadata": {
  "kernelspec": {
   "display_name": "Python 3 (ipykernel)",
   "language": "python",
   "name": "python3"
  },
  "language_info": {
   "codemirror_mode": {
    "name": "ipython",
    "version": 3
   },
   "file_extension": ".py",
   "mimetype": "text/x-python",
   "name": "python",
   "nbconvert_exporter": "python",
   "pygments_lexer": "ipython3",
   "version": "3.9.7"
  }
 },
 "nbformat": 4,
 "nbformat_minor": 5
}
