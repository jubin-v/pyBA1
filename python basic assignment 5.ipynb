{
 "cells": [
  {
   "cell_type": "markdown",
   "id": "22b89afb",
   "metadata": {},
   "source": [
    "### python basic assignment 5\n",
    "\n"
   ]
  },
  {
   "cell_type": "raw",
   "id": "d0788c9e",
   "metadata": {},
   "source": [
    "1. What does an empty dictionary's code look like?\n",
    "\n",
    "Sol.\n",
    "{}, notated by two curly brackets"
   ]
  },
  {
   "cell_type": "raw",
   "id": "551f09bf",
   "metadata": {},
   "source": [
    "2. What is the value of a dictionary value with the key 'foo' and the value 42?\n",
    "\n",
    "Sol.\n",
    "{\"foo\":42}"
   ]
  },
  {
   "cell_type": "raw",
   "id": "6d812955",
   "metadata": {},
   "source": [
    "3. What is the most significant distinction between a dictionary and a list?\n",
    "\n",
    "Sol.\n",
    "the items are stored in Dictionary are not ordered , whereas the items are stored in list are ordered. \n",
    "Elements in list can be accessed via indices, but items in dictionary are accessed via keys-values."
   ]
  },
  {
   "cell_type": "raw",
   "id": "c8086eb2",
   "metadata": {},
   "source": [
    "4. What happens if you try to access spam['foo'] if spam is {'bar': 100}?\n",
    "\n",
    "Sol.\n",
    "you will get key error. (KeyError: 'foo')"
   ]
  },
  {
   "cell_type": "raw",
   "id": "ce644e56",
   "metadata": {},
   "source": [
    "5. If a dictionary is stored in spam, what is the difference between the expressions 'cat' in spam and 'cat' in spam.keys()?\n",
    "\n",
    "Sol.\n",
    "There is no difference. The in operator checks whether a value exists as a key in the dictionary.\n",
    "\n",
    "spam= {\"cat\":50}\n",
    "'cat' in spam , 'cat' in spam.keys() \n",
    "\n",
    "(True, True)"
   ]
  },
  {
   "cell_type": "raw",
   "id": "c57d1d6b",
   "metadata": {},
   "source": [
    "6. If a dictionary is stored in spam, what is the difference between the expressions 'cat' in spam and 'cat' in spam.values()?\n",
    "\n",
    "Sol.\n",
    "The 'cat' in spam checks whether there is a 'cat' key in the dictionary, \n",
    "while 'cat' in spam.values() checks whether there is a value 'cat' for one of the keys in spam.\n",
    "\n",
    "spam= {\"cat\":50}\n",
    "'cat' in spam , 'cat' in spam.values() \n",
    "\n",
    "(True, False)"
   ]
  },
  {
   "cell_type": "raw",
   "id": "e1a3c6e4",
   "metadata": {},
   "source": [
    "7. What is a shortcut for the following code? if 'color' not in spam: spam['color'] = 'black'\n",
    "\n",
    "Sol.\n",
    "\n",
    "spam.setdefault('color', 'black'), will give output for spam as\n",
    "\n",
    "{'cat': 50, 'color': 'black'}"
   ]
  },
  {
   "cell_type": "raw",
   "id": "c8570757",
   "metadata": {},
   "source": [
    "8. How do you \"pretty print\" dictionary values using which module and function?\n",
    "\n",
    "Sol.\n",
    "\n",
    "import pprint\n",
    "pprint.pprint()\n",
    "\n",
    "pprint() function also has similar functionality. But the only difference is in the way it prints complex data structures.\n",
    "The normal print() function prints the entire content in a single line. "
   ]
  }
 ],
 "metadata": {
  "kernelspec": {
   "display_name": "Python 3 (ipykernel)",
   "language": "python",
   "name": "python3"
  },
  "language_info": {
   "codemirror_mode": {
    "name": "ipython",
    "version": 3
   },
   "file_extension": ".py",
   "mimetype": "text/x-python",
   "name": "python",
   "nbconvert_exporter": "python",
   "pygments_lexer": "ipython3",
   "version": "3.9.7"
  }
 },
 "nbformat": 4,
 "nbformat_minor": 5
}
