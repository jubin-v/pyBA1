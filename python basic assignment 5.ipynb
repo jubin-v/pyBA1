{
 "cells": [
  {
   "cell_type": "code",
   "execution_count": null,
   "id": "a21c3dee",
   "metadata": {},
   "outputs": [],
   "source": [
    "### python basic assignment 5\n",
    "\n"
   ]
  },
  {
   "cell_type": "code",
   "execution_count": null,
   "id": "56c6ca0f",
   "metadata": {},
   "outputs": [],
   "source": [
    "1. What does an empty dictionary's code look like?\n",
    "\n",
    "Sol.\n",
    "{}, notated by two curly brackets"
   ]
  },
  {
   "cell_type": "code",
   "execution_count": null,
   "id": "bca20992",
   "metadata": {},
   "outputs": [],
   "source": [
    "2. What is the value of a dictionary value with the key 'foo' and the value 42?\n",
    "\n",
    "Sol.\n",
    "{\"foo\":42}\n",
    "value is 42"
   ]
  },
  {
   "cell_type": "code",
   "execution_count": null,
   "id": "cb70b983",
   "metadata": {},
   "outputs": [],
   "source": [
    "3. What is the most significant distinction between a dictionary and a list?\n",
    "\n",
    "Sol.\n",
    "the items are stored in Dictionary are not ordered , whereas the items are stored in list are ordered. \n",
    "Elements in list can be accessed via indices, but items in dictionary are accessed via keys-values."
   ]
  },
  {
   "cell_type": "code",
   "execution_count": null,
   "id": "c3ac13d8",
   "metadata": {},
   "outputs": [],
   "source": [
    "4. What happens if you try to access spam['foo'] if spam is {'bar': 100}?\n",
    "\n",
    "Sol.\n",
    "you will get key error. (KeyError: 'foo')"
   ]
  },
  {
   "cell_type": "code",
   "execution_count": null,
   "id": "f0384389",
   "metadata": {},
   "outputs": [],
   "source": [
    "5. If a dictionary is stored in spam, what is the difference between the expressions 'cat' in spam and 'cat' in spam.keys()?\n",
    "\n",
    "Sol.\n",
    "There is no difference. The in operator checks whether a value exists as a key in the dictionary.\n",
    "\n",
    "spam= {\"cat\":50}\n",
    "'cat' in spam , 'cat' in spam.keys() \n",
    "\n",
    "(True, True)"
   ]
  },
  {
   "cell_type": "code",
   "execution_count": null,
   "id": "30f9d852",
   "metadata": {},
   "outputs": [],
   "source": [
    "6. If a dictionary is stored in spam, what is the difference between the expressions 'cat' in spam and 'cat' in spam.values()?\n",
    "\n",
    "Sol.\n",
    "The 'cat' in spam checks whether there is a 'cat' key in the dictionary, \n",
    "while 'cat' in spam.values() checks whether there is a value 'cat' for one of the keys in spam.\n",
    "\n",
    "spam= {\"cat\":50}\n",
    "'cat' in spam , 'cat' in spam.values() \n",
    "\n",
    "(True, False)"
   ]
  },
  {
   "cell_type": "code",
   "execution_count": null,
   "id": "0b91988c",
   "metadata": {},
   "outputs": [],
   "source": [
    "7. What is a shortcut for the following code? if 'color' not in spam: spam['color'] = 'black'\n",
    "\n",
    "Sol.\n",
    "\n",
    "spam.setdefault('color', 'black'), will give output for spam as\n",
    "\n",
    "{'cat': 50, 'color': 'black'}\n",
    "\n",
    "or simply\n",
    "\n",
    "spam['color'] = 'black' will also work\n"
   ]
  },
  {
   "cell_type": "code",
   "execution_count": null,
   "id": "dc3edbbb",
   "metadata": {},
   "outputs": [],
   "source": [
    "8. How do you \"pretty print\" dictionary values using which module and function?\n",
    "\n",
    "Sol.\n",
    "\n",
    "from pprint import pprint\n",
    "pprint()\n",
    "\n",
    "pprint() function also has similar functionality. But the only difference is in the way it prints complex data structures.\n",
    "The normal print() function prints the entire content in a single line. "
   ]
  }
 ],
 "metadata": {
  "kernelspec": {
   "display_name": "Python 3 (ipykernel)",
   "language": "python",
   "name": "python3"
  },
  "language_info": {
   "codemirror_mode": {
    "name": "ipython",
    "version": 3
   },
   "file_extension": ".py",
   "mimetype": "text/x-python",
   "name": "python",
   "nbconvert_exporter": "python",
   "pygments_lexer": "ipython3",
   "version": "3.9.7"
  }
 },
 "nbformat": 4,
 "nbformat_minor": 5
}
