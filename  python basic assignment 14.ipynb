{
 "cells": [
  {
   "cell_type": "markdown",
   "id": "3d127171",
   "metadata": {},
   "source": [
    "## python basic assignment 14"
   ]
  },
  {
   "cell_type": "raw",
   "id": "7a5eab3e",
   "metadata": {},
   "source": [
    "1. What does RGBA stand for?\n",
    "\n",
    "Computer programs often represent a color in an image as an RGBA value. An RGBA value is a group of numbers that specify the amount of red, green, blue, and alpha (or transparency) in a color.\n"
   ]
  },
  {
   "cell_type": "raw",
   "id": "1150dfc6",
   "metadata": {},
   "source": [
    "2. From the Pillow module, how do you get the RGBA value of any images?\n",
    "\n",
    "using function ImageColor.getcolor(\"red\",'RGBA')"
   ]
  },
  {
   "cell_type": "raw",
   "id": "e5b76b1b",
   "metadata": {},
   "source": [
    "3. What is a box tuple, and how does it work?\n",
    "\n",
    "box tuple has four integers refereing the four cordinates, 2 for x-axis and 2 for y axis. \n",
    "(leftmost X, topmost y, rightmost x , bottommost y)"
   ]
  },
  {
   "cell_type": "raw",
   "id": "3bf3f769",
   "metadata": {},
   "source": [
    "4. Use your image and load in notebook then, How can you find out the width and height of an Image object?\n",
    "using imageObj.size "
   ]
  },
  {
   "cell_type": "raw",
   "id": "c03d7c64",
   "metadata": {},
   "source": [
    "5. What method would you call to get Image object for a 100×100 image, excluding the lower-left quarter of it?\n",
    "you can crop out the lower left corner, as follows\n",
    "imageObj.crop((0,50,50,50))"
   ]
  },
  {
   "cell_type": "raw",
   "id": "d6248f86",
   "metadata": {},
   "source": [
    "6. After making changes to an Image object, how could you save it as an image file?\n",
    "Call the imageObj.save('new_filename.jpg') method of the Image object."
   ]
  },
  {
   "cell_type": "raw",
   "id": "958ab944",
   "metadata": {},
   "source": [
    "7. What module contains Pillow’s shape-drawing code?\n",
    "ImageDraw module contains code to draw on images."
   ]
  },
  {
   "cell_type": "raw",
   "id": "0460419c",
   "metadata": {},
   "source": [
    "8. Image objects do not have drawing methods. What kind of object does? How do you get this kind of object?\n",
    "\n",
    "ImageDraw objects have shape-drawing methods such as point(), line(), or rectangle(). They are returned by passing the Image object to the ImageDraw.Draw() function."
   ]
  }
 ],
 "metadata": {
  "kernelspec": {
   "display_name": "Python 3 (ipykernel)",
   "language": "python",
   "name": "python3"
  },
  "language_info": {
   "codemirror_mode": {
    "name": "ipython",
    "version": 3
   },
   "file_extension": ".py",
   "mimetype": "text/x-python",
   "name": "python",
   "nbconvert_exporter": "python",
   "pygments_lexer": "ipython3",
   "version": "3.9.7"
  }
 },
 "nbformat": 4,
 "nbformat_minor": 5
}
