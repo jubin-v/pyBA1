{
 "cells": [
  {
   "cell_type": "code",
   "execution_count": null,
   "id": "e0174cab",
   "metadata": {},
   "outputs": [],
   "source": [
    "### python basic assignment 11"
   ]
  },
  {
   "cell_type": "code",
   "execution_count": null,
   "id": "b2b27b18",
   "metadata": {},
   "outputs": [],
   "source": [
    "1. Create an assert statement that throws an AssertionError if the variable spam is a negative integer.\n",
    "\n",
    "Sol.\n",
    "assert spam >= 0, 'The spam variable is less than 0, 'AssertionError' will be given'."
   ]
  },
  {
   "cell_type": "code",
   "execution_count": null,
   "id": "33df794f",
   "metadata": {},
   "outputs": [],
   "source": [
    "2. Write an assert statement that triggers an AssertionError if the variables eggs and bacon contain strings that are the same as each other, even if their cases are different (that is, 'hello' and 'hello' are considered the same, and 'goodbye' and 'GOODbye' are also considered the same).\n",
    "\n",
    "Sol.\n",
    "\n",
    "can be done two ways.\n",
    "\n",
    "assert egg.lower()!= bacon.lower()\n",
    "\n",
    "or\n",
    "assert egg.upper() != bacon.upper()"
   ]
  },
  {
   "cell_type": "code",
   "execution_count": null,
   "id": "d60d45a1",
   "metadata": {},
   "outputs": [],
   "source": [
    "3. Create an assert statement that throws an AssertionError every time.\n",
    "\n",
    "Sol.\n",
    "\n",
    "assert False"
   ]
  },
  {
   "cell_type": "code",
   "execution_count": null,
   "id": "1cf670ca",
   "metadata": {},
   "outputs": [],
   "source": [
    "4. What are the two lines that must be present in your software in order to call logging.debug()?\n",
    "\n",
    "Sol.\n",
    "import logging\n",
    "logging.basicConfig(level=logging.DEBUG, format=' %(asctime)s -%(levelname)s -  %(message)s'))\n"
   ]
  },
  {
   "cell_type": "code",
   "execution_count": null,
   "id": "2ffde561",
   "metadata": {},
   "outputs": [],
   "source": [
    "5. What are the two lines that your program must have in order to have logging.debug() send a logging message to a file named programLog.txt?\n",
    "\n",
    "Sol.\n",
    "import logging\n",
    "logging.basicConfig(filename=\"programLog.txt\",level=logging.DEBUG, format=' %(asctime)s -%(levelname)s -  %(message)s'))"
   ]
  },
  {
   "cell_type": "code",
   "execution_count": null,
   "id": "bf93228b",
   "metadata": {},
   "outputs": [],
   "source": [
    "6. What are the five levels of logging?\n",
    "\n",
    "Sol.\n",
    "DEBUG, INFO, WARNING,ERROR & CRITICAL"
   ]
  },
  {
   "cell_type": "code",
   "execution_count": null,
   "id": "5a0c4b7a",
   "metadata": {},
   "outputs": [],
   "source": [
    "7. What line of code would you add to your software to disable all logging messages?\n",
    "\n",
    "Sol.\n",
    "logging.disable(logging.CRITICAL)"
   ]
  },
  {
   "cell_type": "code",
   "execution_count": null,
   "id": "3d98144b",
   "metadata": {},
   "outputs": [],
   "source": [
    "8.Why is using logging messages better than using print() to display the same message?\n",
    "\n",
    "Sol.\n",
    "You can disable logging messages without removing the logging function calls. You can selectively disable lower-level logging messages. You can create logging messages. Logging messages provides a timestamp. Also provide information about program"
   ]
  },
  {
   "cell_type": "code",
   "execution_count": null,
   "id": "ccf21991",
   "metadata": {},
   "outputs": [],
   "source": [
    "9. What are the differences between the Step Over, Step In, and Step Out buttons in the debugger?\n",
    "\n",
    "Sol.\n",
    "Step Into will cause the debugger to go into the next function call and break there. Step Over will tell the debugger to execute the next function and break afterwards. Step Out will tell the debugger to finish the current function and break after it"
   ]
  },
  {
   "cell_type": "code",
   "execution_count": null,
   "id": "695ccb5a",
   "metadata": {},
   "outputs": [],
   "source": [
    "10.After you click Continue, when will the debugger stop ?\n",
    "\n",
    "Sol.\n",
    "After you click Continue, the debugger will stop when it has reached the end of the program or a line with a breakpoint."
   ]
  },
  {
   "cell_type": "code",
   "execution_count": null,
   "id": "dbe30d29",
   "metadata": {},
   "outputs": [],
   "source": [
    "11. What is the concept of a breakpoint?\n",
    "\n",
    "Sol.\n",
    "A breakpoint is a setting on a line of code that causes the debugger to pause when the program execution reaches the line."
   ]
  }
 ],
 "metadata": {
  "kernelspec": {
   "display_name": "Python 3 (ipykernel)",
   "language": "python",
   "name": "python3"
  },
  "language_info": {
   "codemirror_mode": {
    "name": "ipython",
    "version": 3
   },
   "file_extension": ".py",
   "mimetype": "text/x-python",
   "name": "python",
   "nbconvert_exporter": "python",
   "pygments_lexer": "ipython3",
   "version": "3.9.7"
  }
 },
 "nbformat": 4,
 "nbformat_minor": 5
}
