{
 "cells": [
  {
   "cell_type": "raw",
   "id": "1ea2b56a",
   "metadata": {},
   "source": [
    "### python basic assignment 4\n"
   ]
  },
  {
   "cell_type": "raw",
   "id": "38b8cb2c",
   "metadata": {},
   "source": [
    "1. What exactly is []?\n",
    "\n",
    "Sol.\n",
    "It is an empty list, contains no value. \n",
    "this notation is used to notate list, list one of datatypes used to store multiple items in single varible"
   ]
  },
  {
   "cell_type": "raw",
   "id": "446804a9",
   "metadata": {},
   "source": [
    "2. In a list of values stored in a variable called spam, how would you assign the value 'hello' as the third value? (Assume [2, 4, 6, 8, 10] are in spam.) Let's pretend the spam includes the list ['a', 'b', 'c', 'd'] for the next three queries.\n",
    "\n",
    "Sol.\n",
    "we can use the index operator on top list variable to assign value. spam[2] = \"hello\" will assign as third value."
   ]
  },
  {
   "cell_type": "raw",
   "id": "8cc078b1",
   "metadata": {},
   "source": [
    "3. What is the value of spam[int(int('3' * 2) / 11)]?\n",
    "\n",
    "Sol. \n",
    "spam= ['a','b','c','d'], \n",
    "int('3'*2) is 33 and divided by 11, means it is int(3.3), which is spam[3], i.e output will be 'd'"
   ]
  },
  {
   "cell_type": "raw",
   "id": "f73c5e61",
   "metadata": {},
   "source": [
    "4. What is the value of spam[-1]?\n",
    "\n",
    "Sol.\n",
    "'d', negative indices count from end"
   ]
  },
  {
   "cell_type": "raw",
   "id": "80e577b5",
   "metadata": {},
   "source": [
    "5. What is the value of spam[:2]? Let's pretend bacon has the list [3.14, 'cat', 11, 'cat', True] for the next three questions.\n",
    "\n",
    "Sol.\n",
    "['a', 'b']"
   ]
  },
  {
   "cell_type": "raw",
   "id": "2dab82ce",
   "metadata": {},
   "source": [
    "6. What is the value of bacon.index('cat')?\n",
    "\n",
    "Sol.\n",
    "1"
   ]
  },
  {
   "cell_type": "raw",
   "id": "79b1b685",
   "metadata": {},
   "source": [
    "7. How does bacon.append(99) change the look of the list value in bacon?\n",
    "\n",
    "Sol.\n",
    "[3.14, 'cat', 11, 'cat', True, 99]"
   ]
  },
  {
   "cell_type": "raw",
   "id": "e060a544",
   "metadata": {},
   "source": [
    "8.How does bacon.remove('cat') change the look of the list in bacon?\n",
    "\n",
    "Sol.\n",
    "[3.14, 11, 'cat', True, 99]"
   ]
  },
  {
   "cell_type": "raw",
   "id": "66a58a44",
   "metadata": {},
   "source": [
    "9.What are the list concatenation and list replication operators?\n",
    "\n",
    "Sol.\n",
    "'+' is the concatination operator, they are used to concatenate lists.\n",
    "'*' is replication operator"
   ]
  },
  {
   "cell_type": "raw",
   "id": "fd10c0a4",
   "metadata": {},
   "source": [
    "10. What is difference between the list methods append() and insert()?\n",
    "\n",
    "Sol.\n",
    "append() only adds value to the end of list, where as insert() can add value any where in the list."
   ]
  },
  {
   "cell_type": "raw",
   "id": "892e5d32",
   "metadata": {},
   "source": [
    "11.What are the two methods for removing items from a list?\n",
    "\n",
    "Sol.\n",
    "the methods are remove() and del\n",
    "remove() - removes the first matching element from list\n",
    "del - removes elements based on index or object completely\n",
    "\n",
    "pop() - removes element based on index\n",
    "clear ()- can be used incase if you want remove all elements, empty list is given as output"
   ]
  },
  {
   "cell_type": "raw",
   "id": "dfb7d5b8",
   "metadata": {},
   "source": [
    "12.Describe how list values and string values are identical?\n",
    "\n",
    "Sol.\n",
    "both list and string are sequntial collections. string is sequential collection of characters, whereas list is collectionon any data values.\n",
    "elements of list is mutable whereas string elements are not mutable. "
   ]
  },
  {
   "cell_type": "raw",
   "id": "ee2154c5",
   "metadata": {},
   "source": [
    "13.What's the difference between tuples and lists?\n",
    "\n",
    "Sol.\n",
    "list are mutable, whereas tuples are immutable objects."
   ]
  },
  {
   "cell_type": "raw",
   "id": "43b08cb7",
   "metadata": {},
   "source": [
    "14. How do you type a tuple value that only contains the integer 42?\n",
    "\n",
    "Sol.\n",
    "(42,), trailing comma is mandatory"
   ]
  },
  {
   "cell_type": "raw",
   "id": "0d604148",
   "metadata": {},
   "source": [
    "15. How do you get a list value's tuple form? How do you get a tuple value's list form?\n",
    "\n",
    "Sol.\n",
    "\n",
    "using fuctions list() and tuple(), list of tuples and tuples of lists can be created.\n",
    "ex. [(tuple1),(tuple2),(tuple3),..,(tuple n)] and ([list1],[list2]....[listn])\n"
   ]
  },
  {
   "cell_type": "raw",
   "id": "0a04b2ea",
   "metadata": {},
   "source": [
    "16.Variables that \"contain\" list values are not necessarily lists themselves. Instead, what do they contain?\n",
    "\n",
    "Sol.\n",
    "Variables will contain references to list values rather than list values themselves. \n",
    "But for strings and integer values, variables simply contain the string or integer value"
   ]
  },
  {
   "cell_type": "raw",
   "id": "34ec1bc3",
   "metadata": {},
   "source": [
    "17.How do you distinguish between copy.copy() and copy.deepcopy()?\n",
    "\n",
    "Sol.\n",
    "The copy.copy() function will do a shallow copy of a list, while the copy.deepcopy() function will do a deep copy of a list. \n",
    "That is, only copy.deepcopy() will duplicate any lists inside the list.\n",
    "\n",
    "copy() create reference to original object. If you change copied object - you change the original object. \n",
    ".deepcopy() creates new object and does real copying of original object to new one. \n",
    "Changing new deepcopied object doesn't affect original object.\n"
   ]
  }
 ],
 "metadata": {
  "kernelspec": {
   "display_name": "Python 3 (ipykernel)",
   "language": "python",
   "name": "python3"
  },
  "language_info": {
   "codemirror_mode": {
    "name": "ipython",
    "version": 3
   },
   "file_extension": ".py",
   "mimetype": "text/x-python",
   "name": "python",
   "nbconvert_exporter": "python",
   "pygments_lexer": "ipython3",
   "version": "3.9.7"
  }
 },
 "nbformat": 4,
 "nbformat_minor": 5
}
